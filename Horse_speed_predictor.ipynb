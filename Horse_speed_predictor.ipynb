{
  "cells": [
    {
      "cell_type": "code",
      "execution_count": 3,
      "metadata": {
        "id": "TM47T05Ufaq0"
      },
      "outputs": [],
      "source": [
        "import numpy as np\n",
        "import matplotlib.pyplot as plt\n",
        "import pandas as pd\n",
        "import pickle\n",
        "from sklearn.compose import ColumnTransformer\n",
        "from sklearn.preprocessing import OneHotEncoder\n",
        "from sklearn.preprocessing import LabelEncoder"
      ]
    },
    {
      "cell_type": "code",
      "execution_count": 31,
      "metadata": {
        "colab": {
          "base_uri": "https://localhost:8080/",
          "height": 206
        },
        "id": "c_9LnSSPgKeE",
        "outputId": "755a8c90-dca9-4381-d550-ba864c74fb78"
      },
      "outputs": [
        {
          "data": {
            "text/html": [
              "\n",
              "  <div id=\"df-7b572bb0-6662-4a29-b4bb-de4eaa2a92d3\">\n",
              "    <div class=\"colab-df-container\">\n",
              "      <div>\n",
              "<style scoped>\n",
              "    .dataframe tbody tr th:only-of-type {\n",
              "        vertical-align: middle;\n",
              "    }\n",
              "\n",
              "    .dataframe tbody tr th {\n",
              "        vertical-align: top;\n",
              "    }\n",
              "\n",
              "    .dataframe thead th {\n",
              "        text-align: right;\n",
              "    }\n",
              "</style>\n",
              "<table border=\"1\" class=\"dataframe\">\n",
              "  <thead>\n",
              "    <tr style=\"text-align: right;\">\n",
              "      <th></th>\n",
              "      <th>race_id</th>\n",
              "      <th>country</th>\n",
              "      <th>horse_type</th>\n",
              "      <th>horse_age</th>\n",
              "      <th>horse_place</th>\n",
              "      <th>horse_weight</th>\n",
              "      <th>rider_weight</th>\n",
              "      <th>average_speed</th>\n",
              "      <th>distance</th>\n",
              "      <th>going</th>\n",
              "      <th>config</th>\n",
              "      <th>surface</th>\n",
              "      <th>horse_ratings</th>\n",
              "      <th>venue</th>\n",
              "      <th>winning_horse_speed</th>\n",
              "    </tr>\n",
              "  </thead>\n",
              "  <tbody>\n",
              "    <tr>\n",
              "      <th>0</th>\n",
              "      <td>1</td>\n",
              "      <td>IRE</td>\n",
              "      <td>Gelding</td>\n",
              "      <td>4</td>\n",
              "      <td>1</td>\n",
              "      <td>1027.0</td>\n",
              "      <td>126.0</td>\n",
              "      <td>17.290184</td>\n",
              "      <td>1600</td>\n",
              "      <td>Good</td>\n",
              "      <td>A</td>\n",
              "      <td>0</td>\n",
              "      <td>60-80</td>\n",
              "      <td>HV</td>\n",
              "      <td>17.495082</td>\n",
              "    </tr>\n",
              "    <tr>\n",
              "      <th>1</th>\n",
              "      <td>1</td>\n",
              "      <td>IRE</td>\n",
              "      <td>Mount</td>\n",
              "      <td>8</td>\n",
              "      <td>10</td>\n",
              "      <td>1156.0</td>\n",
              "      <td>141.0</td>\n",
              "      <td>15.961113</td>\n",
              "      <td>1600</td>\n",
              "      <td>Good</td>\n",
              "      <td>A</td>\n",
              "      <td>0</td>\n",
              "      <td>60-80</td>\n",
              "      <td>HV</td>\n",
              "      <td>17.495082</td>\n",
              "    </tr>\n",
              "    <tr>\n",
              "      <th>2</th>\n",
              "      <td>1</td>\n",
              "      <td>GB</td>\n",
              "      <td>Horse</td>\n",
              "      <td>4</td>\n",
              "      <td>2</td>\n",
              "      <td>975.0</td>\n",
              "      <td>129.0</td>\n",
              "      <td>16.801852</td>\n",
              "      <td>1600</td>\n",
              "      <td>Good</td>\n",
              "      <td>A</td>\n",
              "      <td>0</td>\n",
              "      <td>60-80</td>\n",
              "      <td>HV</td>\n",
              "      <td>17.495082</td>\n",
              "    </tr>\n",
              "    <tr>\n",
              "      <th>3</th>\n",
              "      <td>1</td>\n",
              "      <td>USA</td>\n",
              "      <td>Gelding</td>\n",
              "      <td>3</td>\n",
              "      <td>3</td>\n",
              "      <td>1018.0</td>\n",
              "      <td>128.0</td>\n",
              "      <td>16.759707</td>\n",
              "      <td>1600</td>\n",
              "      <td>Good</td>\n",
              "      <td>A</td>\n",
              "      <td>0</td>\n",
              "      <td>60-80</td>\n",
              "      <td>HV</td>\n",
              "      <td>17.495082</td>\n",
              "    </tr>\n",
              "    <tr>\n",
              "      <th>4</th>\n",
              "      <td>1</td>\n",
              "      <td>IRE</td>\n",
              "      <td>Colt</td>\n",
              "      <td>6</td>\n",
              "      <td>4</td>\n",
              "      <td>1086.0</td>\n",
              "      <td>133.0</td>\n",
              "      <td>16.593614</td>\n",
              "      <td>1600</td>\n",
              "      <td>Good</td>\n",
              "      <td>A</td>\n",
              "      <td>0</td>\n",
              "      <td>60-80</td>\n",
              "      <td>HV</td>\n",
              "      <td>17.495082</td>\n",
              "    </tr>\n",
              "  </tbody>\n",
              "</table>\n",
              "</div>\n",
              "      <button class=\"colab-df-convert\" onclick=\"convertToInteractive('df-7b572bb0-6662-4a29-b4bb-de4eaa2a92d3')\"\n",
              "              title=\"Convert this dataframe to an interactive table.\"\n",
              "              style=\"display:none;\">\n",
              "        \n",
              "  <svg xmlns=\"http://www.w3.org/2000/svg\" height=\"24px\"viewBox=\"0 0 24 24\"\n",
              "       width=\"24px\">\n",
              "    <path d=\"M0 0h24v24H0V0z\" fill=\"none\"/>\n",
              "    <path d=\"M18.56 5.44l.94 2.06.94-2.06 2.06-.94-2.06-.94-.94-2.06-.94 2.06-2.06.94zm-11 1L8.5 8.5l.94-2.06 2.06-.94-2.06-.94L8.5 2.5l-.94 2.06-2.06.94zm10 10l.94 2.06.94-2.06 2.06-.94-2.06-.94-.94-2.06-.94 2.06-2.06.94z\"/><path d=\"M17.41 7.96l-1.37-1.37c-.4-.4-.92-.59-1.43-.59-.52 0-1.04.2-1.43.59L10.3 9.45l-7.72 7.72c-.78.78-.78 2.05 0 2.83L4 21.41c.39.39.9.59 1.41.59.51 0 1.02-.2 1.41-.59l7.78-7.78 2.81-2.81c.8-.78.8-2.07 0-2.86zM5.41 20L4 18.59l7.72-7.72 1.47 1.35L5.41 20z\"/>\n",
              "  </svg>\n",
              "      </button>\n",
              "      \n",
              "  <style>\n",
              "    .colab-df-container {\n",
              "      display:flex;\n",
              "      flex-wrap:wrap;\n",
              "      gap: 12px;\n",
              "    }\n",
              "\n",
              "    .colab-df-convert {\n",
              "      background-color: #E8F0FE;\n",
              "      border: none;\n",
              "      border-radius: 50%;\n",
              "      cursor: pointer;\n",
              "      display: none;\n",
              "      fill: #1967D2;\n",
              "      height: 32px;\n",
              "      padding: 0 0 0 0;\n",
              "      width: 32px;\n",
              "    }\n",
              "\n",
              "    .colab-df-convert:hover {\n",
              "      background-color: #E2EBFA;\n",
              "      box-shadow: 0px 1px 2px rgba(60, 64, 67, 0.3), 0px 1px 3px 1px rgba(60, 64, 67, 0.15);\n",
              "      fill: #174EA6;\n",
              "    }\n",
              "\n",
              "    [theme=dark] .colab-df-convert {\n",
              "      background-color: #3B4455;\n",
              "      fill: #D2E3FC;\n",
              "    }\n",
              "\n",
              "    [theme=dark] .colab-df-convert:hover {\n",
              "      background-color: #434B5C;\n",
              "      box-shadow: 0px 1px 3px 1px rgba(0, 0, 0, 0.15);\n",
              "      filter: drop-shadow(0px 1px 2px rgba(0, 0, 0, 0.3));\n",
              "      fill: #FFFFFF;\n",
              "    }\n",
              "  </style>\n",
              "\n",
              "      <script>\n",
              "        const buttonEl =\n",
              "          document.querySelector('#df-7b572bb0-6662-4a29-b4bb-de4eaa2a92d3 button.colab-df-convert');\n",
              "        buttonEl.style.display =\n",
              "          google.colab.kernel.accessAllowed ? 'block' : 'none';\n",
              "\n",
              "        async function convertToInteractive(key) {\n",
              "          const element = document.querySelector('#df-7b572bb0-6662-4a29-b4bb-de4eaa2a92d3');\n",
              "          const dataTable =\n",
              "            await google.colab.kernel.invokeFunction('convertToInteractive',\n",
              "                                                     [key], {});\n",
              "          if (!dataTable) return;\n",
              "\n",
              "          const docLinkHtml = 'Like what you see? Visit the ' +\n",
              "            '<a target=\"_blank\" href=https://colab.research.google.com/notebooks/data_table.ipynb>data table notebook</a>'\n",
              "            + ' to learn more about interactive tables.';\n",
              "          element.innerHTML = '';\n",
              "          dataTable['output_type'] = 'display_data';\n",
              "          await google.colab.output.renderOutput(dataTable, element);\n",
              "          const docLink = document.createElement('div');\n",
              "          docLink.innerHTML = docLinkHtml;\n",
              "          element.appendChild(docLink);\n",
              "        }\n",
              "      </script>\n",
              "    </div>\n",
              "  </div>\n",
              "  "
            ],
            "text/plain": [
              "   race_id country horse_type  horse_age  horse_place  horse_weight  \\\n",
              "0        1     IRE    Gelding          4            1        1027.0   \n",
              "1        1     IRE      Mount          8           10        1156.0   \n",
              "2        1      GB      Horse          4            2         975.0   \n",
              "3        1     USA    Gelding          3            3        1018.0   \n",
              "4        1     IRE       Colt          6            4        1086.0   \n",
              "\n",
              "   rider_weight  average_speed  distance going config  surface horse_ratings  \\\n",
              "0         126.0      17.290184      1600  Good      A        0         60-80   \n",
              "1         141.0      15.961113      1600  Good      A        0         60-80   \n",
              "2         129.0      16.801852      1600  Good      A        0         60-80   \n",
              "3         128.0      16.759707      1600  Good      A        0         60-80   \n",
              "4         133.0      16.593614      1600  Good      A        0         60-80   \n",
              "\n",
              "  venue  winning_horse_speed  \n",
              "0    HV            17.495082  \n",
              "1    HV            17.495082  \n",
              "2    HV            17.495082  \n",
              "3    HV            17.495082  \n",
              "4    HV            17.495082  "
            ]
          },
          "execution_count": 31,
          "metadata": {},
          "output_type": "execute_result"
        }
      ],
      "source": [
        "ds = pd.read_csv('run_race.csv')\n",
        "ds.head()"
      ]
    },
    {
      "cell_type": "code",
      "execution_count": 32,
      "metadata": {
        "colab": {
          "base_uri": "https://localhost:8080/"
        },
        "id": "ZFW3vItbgScs",
        "outputId": "0a99d760-68dc-4fc3-df33-1d05aaf79f52"
      },
      "outputs": [
        {
          "data": {
            "text/plain": [
              "race_id                False\n",
              "country                False\n",
              "horse_type              True\n",
              "horse_age              False\n",
              "horse_place            False\n",
              "horse_weight            True\n",
              "rider_weight            True\n",
              "average_speed          False\n",
              "distance               False\n",
              "going                  False\n",
              "config                 False\n",
              "surface                False\n",
              "horse_ratings          False\n",
              "venue                  False\n",
              "winning_horse_speed    False\n",
              "dtype: bool"
            ]
          },
          "execution_count": 32,
          "metadata": {},
          "output_type": "execute_result"
        }
      ],
      "source": [
        "ds.isnull().any()"
      ]
    },
    {
      "cell_type": "code",
      "execution_count": 33,
      "metadata": {
        "colab": {
          "base_uri": "https://localhost:8080/"
        },
        "id": "JjGCvEpThEVa",
        "outputId": "a2af0dfb-c30b-4447-f247-aeaf044f99a1"
      },
      "outputs": [
        {
          "data": {
            "text/plain": [
              "(79440, 15)"
            ]
          },
          "execution_count": 33,
          "metadata": {},
          "output_type": "execute_result"
        }
      ],
      "source": [
        "ds.shape"
      ]
    },
    {
      "cell_type": "code",
      "execution_count": 34,
      "metadata": {
        "colab": {
          "base_uri": "https://localhost:8080/"
        },
        "id": "vbd20YCMhHI6",
        "outputId": "1265b360-34fc-47ea-a7d5-e4f7117f9390"
      },
      "outputs": [
        {
          "data": {
            "text/plain": [
              "(79431, 15)"
            ]
          },
          "execution_count": 34,
          "metadata": {},
          "output_type": "execute_result"
        }
      ],
      "source": [
        "ds = ds.dropna()\n",
        "ds.shape"
      ]
    },
    {
      "cell_type": "code",
      "execution_count": 35,
      "metadata": {
        "colab": {
          "base_uri": "https://localhost:8080/",
          "height": 206
        },
        "id": "nSjoiaWEiiKJ",
        "outputId": "75477ec9-c510-4bc0-b384-fff4d3bb8ea0"
      },
      "outputs": [
        {
          "data": {
            "text/html": [
              "\n",
              "  <div id=\"df-7ac4adf3-ca39-4d56-bd6d-901b215525b2\">\n",
              "    <div class=\"colab-df-container\">\n",
              "      <div>\n",
              "<style scoped>\n",
              "    .dataframe tbody tr th:only-of-type {\n",
              "        vertical-align: middle;\n",
              "    }\n",
              "\n",
              "    .dataframe tbody tr th {\n",
              "        vertical-align: top;\n",
              "    }\n",
              "\n",
              "    .dataframe thead th {\n",
              "        text-align: right;\n",
              "    }\n",
              "</style>\n",
              "<table border=\"1\" class=\"dataframe\">\n",
              "  <thead>\n",
              "    <tr style=\"text-align: right;\">\n",
              "      <th></th>\n",
              "      <th>horse_type</th>\n",
              "      <th>config</th>\n",
              "      <th>horse_age</th>\n",
              "      <th>horse_weight</th>\n",
              "      <th>rider_weight</th>\n",
              "      <th>surface</th>\n",
              "      <th>average_speed</th>\n",
              "    </tr>\n",
              "  </thead>\n",
              "  <tbody>\n",
              "    <tr>\n",
              "      <th>0</th>\n",
              "      <td>Gelding</td>\n",
              "      <td>A</td>\n",
              "      <td>4</td>\n",
              "      <td>1027.0</td>\n",
              "      <td>126.0</td>\n",
              "      <td>0</td>\n",
              "      <td>17.290184</td>\n",
              "    </tr>\n",
              "    <tr>\n",
              "      <th>1</th>\n",
              "      <td>Mount</td>\n",
              "      <td>A</td>\n",
              "      <td>8</td>\n",
              "      <td>1156.0</td>\n",
              "      <td>141.0</td>\n",
              "      <td>0</td>\n",
              "      <td>15.961113</td>\n",
              "    </tr>\n",
              "    <tr>\n",
              "      <th>2</th>\n",
              "      <td>Horse</td>\n",
              "      <td>A</td>\n",
              "      <td>4</td>\n",
              "      <td>975.0</td>\n",
              "      <td>129.0</td>\n",
              "      <td>0</td>\n",
              "      <td>16.801852</td>\n",
              "    </tr>\n",
              "    <tr>\n",
              "      <th>3</th>\n",
              "      <td>Gelding</td>\n",
              "      <td>A</td>\n",
              "      <td>3</td>\n",
              "      <td>1018.0</td>\n",
              "      <td>128.0</td>\n",
              "      <td>0</td>\n",
              "      <td>16.759707</td>\n",
              "    </tr>\n",
              "    <tr>\n",
              "      <th>4</th>\n",
              "      <td>Colt</td>\n",
              "      <td>A</td>\n",
              "      <td>6</td>\n",
              "      <td>1086.0</td>\n",
              "      <td>133.0</td>\n",
              "      <td>0</td>\n",
              "      <td>16.593614</td>\n",
              "    </tr>\n",
              "  </tbody>\n",
              "</table>\n",
              "</div>\n",
              "      <button class=\"colab-df-convert\" onclick=\"convertToInteractive('df-7ac4adf3-ca39-4d56-bd6d-901b215525b2')\"\n",
              "              title=\"Convert this dataframe to an interactive table.\"\n",
              "              style=\"display:none;\">\n",
              "        \n",
              "  <svg xmlns=\"http://www.w3.org/2000/svg\" height=\"24px\"viewBox=\"0 0 24 24\"\n",
              "       width=\"24px\">\n",
              "    <path d=\"M0 0h24v24H0V0z\" fill=\"none\"/>\n",
              "    <path d=\"M18.56 5.44l.94 2.06.94-2.06 2.06-.94-2.06-.94-.94-2.06-.94 2.06-2.06.94zm-11 1L8.5 8.5l.94-2.06 2.06-.94-2.06-.94L8.5 2.5l-.94 2.06-2.06.94zm10 10l.94 2.06.94-2.06 2.06-.94-2.06-.94-.94-2.06-.94 2.06-2.06.94z\"/><path d=\"M17.41 7.96l-1.37-1.37c-.4-.4-.92-.59-1.43-.59-.52 0-1.04.2-1.43.59L10.3 9.45l-7.72 7.72c-.78.78-.78 2.05 0 2.83L4 21.41c.39.39.9.59 1.41.59.51 0 1.02-.2 1.41-.59l7.78-7.78 2.81-2.81c.8-.78.8-2.07 0-2.86zM5.41 20L4 18.59l7.72-7.72 1.47 1.35L5.41 20z\"/>\n",
              "  </svg>\n",
              "      </button>\n",
              "      \n",
              "  <style>\n",
              "    .colab-df-container {\n",
              "      display:flex;\n",
              "      flex-wrap:wrap;\n",
              "      gap: 12px;\n",
              "    }\n",
              "\n",
              "    .colab-df-convert {\n",
              "      background-color: #E8F0FE;\n",
              "      border: none;\n",
              "      border-radius: 50%;\n",
              "      cursor: pointer;\n",
              "      display: none;\n",
              "      fill: #1967D2;\n",
              "      height: 32px;\n",
              "      padding: 0 0 0 0;\n",
              "      width: 32px;\n",
              "    }\n",
              "\n",
              "    .colab-df-convert:hover {\n",
              "      background-color: #E2EBFA;\n",
              "      box-shadow: 0px 1px 2px rgba(60, 64, 67, 0.3), 0px 1px 3px 1px rgba(60, 64, 67, 0.15);\n",
              "      fill: #174EA6;\n",
              "    }\n",
              "\n",
              "    [theme=dark] .colab-df-convert {\n",
              "      background-color: #3B4455;\n",
              "      fill: #D2E3FC;\n",
              "    }\n",
              "\n",
              "    [theme=dark] .colab-df-convert:hover {\n",
              "      background-color: #434B5C;\n",
              "      box-shadow: 0px 1px 3px 1px rgba(0, 0, 0, 0.15);\n",
              "      filter: drop-shadow(0px 1px 2px rgba(0, 0, 0, 0.3));\n",
              "      fill: #FFFFFF;\n",
              "    }\n",
              "  </style>\n",
              "\n",
              "      <script>\n",
              "        const buttonEl =\n",
              "          document.querySelector('#df-7ac4adf3-ca39-4d56-bd6d-901b215525b2 button.colab-df-convert');\n",
              "        buttonEl.style.display =\n",
              "          google.colab.kernel.accessAllowed ? 'block' : 'none';\n",
              "\n",
              "        async function convertToInteractive(key) {\n",
              "          const element = document.querySelector('#df-7ac4adf3-ca39-4d56-bd6d-901b215525b2');\n",
              "          const dataTable =\n",
              "            await google.colab.kernel.invokeFunction('convertToInteractive',\n",
              "                                                     [key], {});\n",
              "          if (!dataTable) return;\n",
              "\n",
              "          const docLinkHtml = 'Like what you see? Visit the ' +\n",
              "            '<a target=\"_blank\" href=https://colab.research.google.com/notebooks/data_table.ipynb>data table notebook</a>'\n",
              "            + ' to learn more about interactive tables.';\n",
              "          element.innerHTML = '';\n",
              "          dataTable['output_type'] = 'display_data';\n",
              "          await google.colab.output.renderOutput(dataTable, element);\n",
              "          const docLink = document.createElement('div');\n",
              "          docLink.innerHTML = docLinkHtml;\n",
              "          element.appendChild(docLink);\n",
              "        }\n",
              "      </script>\n",
              "    </div>\n",
              "  </div>\n",
              "  "
            ],
            "text/plain": [
              "  horse_type config  horse_age  horse_weight  rider_weight  surface  \\\n",
              "0    Gelding      A          4        1027.0         126.0        0   \n",
              "1      Mount      A          8        1156.0         141.0        0   \n",
              "2      Horse      A          4         975.0         129.0        0   \n",
              "3    Gelding      A          3        1018.0         128.0        0   \n",
              "4       Colt      A          6        1086.0         133.0        0   \n",
              "\n",
              "   average_speed  \n",
              "0      17.290184  \n",
              "1      15.961113  \n",
              "2      16.801852  \n",
              "3      16.759707  \n",
              "4      16.593614  "
            ]
          },
          "execution_count": 35,
          "metadata": {},
          "output_type": "execute_result"
        }
      ],
      "source": [
        "pred_speed = ds[['horse_type','config','horse_age','horse_weight','rider_weight','surface','average_speed']]\n",
        "pred_speed.head()"
      ]
    },
    {
      "cell_type": "code",
      "execution_count": 32,
      "metadata": {
        "id": "B8tr-D3-jVzK"
      },
      "outputs": [],
      "source": [
        "#ct = ColumnTransformer(transformers=[('encoder', OneHotEncoder(), [0,1])], remainder='passthrough')\n",
        "#X = np.array(ct.fit_transform(X))"
      ]
    },
    {
      "cell_type": "code",
      "execution_count": 36,
      "metadata": {
        "colab": {
          "base_uri": "https://localhost:8080/"
        },
        "id": "jMClZJgFQPO1",
        "outputId": "b7079f27-5a75-47b5-a0f1-b8d6fea01e87"
      },
      "outputs": [
        {
          "name": "stderr",
          "output_type": "stream",
          "text": [
            "/usr/local/lib/python3.7/dist-packages/ipykernel_launcher.py:2: SettingWithCopyWarning: \n",
            "A value is trying to be set on a copy of a slice from a DataFrame.\n",
            "Try using .loc[row_indexer,col_indexer] = value instead\n",
            "\n",
            "See the caveats in the documentation: https://pandas.pydata.org/pandas-docs/stable/user_guide/indexing.html#returning-a-view-versus-a-copy\n",
            "  \n"
          ]
        },
        {
          "data": {
            "text/plain": [
              "array([2, 5, 3, 1, 0, 6, 4])"
            ]
          },
          "execution_count": 36,
          "metadata": {},
          "output_type": "execute_result"
        }
      ],
      "source": [
        "htype = LabelEncoder()\n",
        "pred_speed['horse_type'] = htype.fit_transform(pred_speed['horse_type'])\n",
        "pred_speed['horse_type'].unique()"
      ]
    },
    {
      "cell_type": "code",
      "execution_count": 37,
      "metadata": {
        "colab": {
          "base_uri": "https://localhost:8080/"
        },
        "id": "N-fG8DwgVLhY",
        "outputId": "992408f9-a0a1-4420-a554-3769b4c96c1c"
      },
      "outputs": [
        {
          "name": "stderr",
          "output_type": "stream",
          "text": [
            "/usr/local/lib/python3.7/dist-packages/ipykernel_launcher.py:2: SettingWithCopyWarning: \n",
            "A value is trying to be set on a copy of a slice from a DataFrame.\n",
            "Try using .loc[row_indexer,col_indexer] = value instead\n",
            "\n",
            "See the caveats in the documentation: https://pandas.pydata.org/pandas-docs/stable/user_guide/indexing.html#returning-a-view-versus-a-copy\n",
            "  \n"
          ]
        },
        {
          "data": {
            "text/plain": [
              "array([0, 4, 2, 3, 1])"
            ]
          },
          "execution_count": 37,
          "metadata": {},
          "output_type": "execute_result"
        }
      ],
      "source": [
        "config = LabelEncoder()\n",
        "pred_speed['config'] = config.fit_transform(pred_speed['config'])\n",
        "pred_speed['config'].unique()"
      ]
    },
    {
      "cell_type": "code",
      "execution_count": 38,
      "metadata": {
        "colab": {
          "base_uri": "https://localhost:8080/",
          "height": 206
        },
        "id": "OH3-CGac0ZxT",
        "outputId": "56fad0ba-46f0-4f6b-da53-ba1c933244f6"
      },
      "outputs": [
        {
          "data": {
            "text/html": [
              "\n",
              "  <div id=\"df-60b11aa8-b17a-4134-9238-65ec8a666015\">\n",
              "    <div class=\"colab-df-container\">\n",
              "      <div>\n",
              "<style scoped>\n",
              "    .dataframe tbody tr th:only-of-type {\n",
              "        vertical-align: middle;\n",
              "    }\n",
              "\n",
              "    .dataframe tbody tr th {\n",
              "        vertical-align: top;\n",
              "    }\n",
              "\n",
              "    .dataframe thead th {\n",
              "        text-align: right;\n",
              "    }\n",
              "</style>\n",
              "<table border=\"1\" class=\"dataframe\">\n",
              "  <thead>\n",
              "    <tr style=\"text-align: right;\">\n",
              "      <th></th>\n",
              "      <th>horse_type</th>\n",
              "      <th>config</th>\n",
              "      <th>horse_age</th>\n",
              "      <th>horse_weight</th>\n",
              "      <th>rider_weight</th>\n",
              "      <th>surface</th>\n",
              "      <th>average_speed</th>\n",
              "    </tr>\n",
              "  </thead>\n",
              "  <tbody>\n",
              "    <tr>\n",
              "      <th>0</th>\n",
              "      <td>2</td>\n",
              "      <td>0</td>\n",
              "      <td>4</td>\n",
              "      <td>1027.0</td>\n",
              "      <td>126.0</td>\n",
              "      <td>0</td>\n",
              "      <td>17.290184</td>\n",
              "    </tr>\n",
              "    <tr>\n",
              "      <th>1</th>\n",
              "      <td>5</td>\n",
              "      <td>0</td>\n",
              "      <td>8</td>\n",
              "      <td>1156.0</td>\n",
              "      <td>141.0</td>\n",
              "      <td>0</td>\n",
              "      <td>15.961113</td>\n",
              "    </tr>\n",
              "    <tr>\n",
              "      <th>2</th>\n",
              "      <td>3</td>\n",
              "      <td>0</td>\n",
              "      <td>4</td>\n",
              "      <td>975.0</td>\n",
              "      <td>129.0</td>\n",
              "      <td>0</td>\n",
              "      <td>16.801852</td>\n",
              "    </tr>\n",
              "    <tr>\n",
              "      <th>3</th>\n",
              "      <td>2</td>\n",
              "      <td>0</td>\n",
              "      <td>3</td>\n",
              "      <td>1018.0</td>\n",
              "      <td>128.0</td>\n",
              "      <td>0</td>\n",
              "      <td>16.759707</td>\n",
              "    </tr>\n",
              "    <tr>\n",
              "      <th>4</th>\n",
              "      <td>1</td>\n",
              "      <td>0</td>\n",
              "      <td>6</td>\n",
              "      <td>1086.0</td>\n",
              "      <td>133.0</td>\n",
              "      <td>0</td>\n",
              "      <td>16.593614</td>\n",
              "    </tr>\n",
              "  </tbody>\n",
              "</table>\n",
              "</div>\n",
              "      <button class=\"colab-df-convert\" onclick=\"convertToInteractive('df-60b11aa8-b17a-4134-9238-65ec8a666015')\"\n",
              "              title=\"Convert this dataframe to an interactive table.\"\n",
              "              style=\"display:none;\">\n",
              "        \n",
              "  <svg xmlns=\"http://www.w3.org/2000/svg\" height=\"24px\"viewBox=\"0 0 24 24\"\n",
              "       width=\"24px\">\n",
              "    <path d=\"M0 0h24v24H0V0z\" fill=\"none\"/>\n",
              "    <path d=\"M18.56 5.44l.94 2.06.94-2.06 2.06-.94-2.06-.94-.94-2.06-.94 2.06-2.06.94zm-11 1L8.5 8.5l.94-2.06 2.06-.94-2.06-.94L8.5 2.5l-.94 2.06-2.06.94zm10 10l.94 2.06.94-2.06 2.06-.94-2.06-.94-.94-2.06-.94 2.06-2.06.94z\"/><path d=\"M17.41 7.96l-1.37-1.37c-.4-.4-.92-.59-1.43-.59-.52 0-1.04.2-1.43.59L10.3 9.45l-7.72 7.72c-.78.78-.78 2.05 0 2.83L4 21.41c.39.39.9.59 1.41.59.51 0 1.02-.2 1.41-.59l7.78-7.78 2.81-2.81c.8-.78.8-2.07 0-2.86zM5.41 20L4 18.59l7.72-7.72 1.47 1.35L5.41 20z\"/>\n",
              "  </svg>\n",
              "      </button>\n",
              "      \n",
              "  <style>\n",
              "    .colab-df-container {\n",
              "      display:flex;\n",
              "      flex-wrap:wrap;\n",
              "      gap: 12px;\n",
              "    }\n",
              "\n",
              "    .colab-df-convert {\n",
              "      background-color: #E8F0FE;\n",
              "      border: none;\n",
              "      border-radius: 50%;\n",
              "      cursor: pointer;\n",
              "      display: none;\n",
              "      fill: #1967D2;\n",
              "      height: 32px;\n",
              "      padding: 0 0 0 0;\n",
              "      width: 32px;\n",
              "    }\n",
              "\n",
              "    .colab-df-convert:hover {\n",
              "      background-color: #E2EBFA;\n",
              "      box-shadow: 0px 1px 2px rgba(60, 64, 67, 0.3), 0px 1px 3px 1px rgba(60, 64, 67, 0.15);\n",
              "      fill: #174EA6;\n",
              "    }\n",
              "\n",
              "    [theme=dark] .colab-df-convert {\n",
              "      background-color: #3B4455;\n",
              "      fill: #D2E3FC;\n",
              "    }\n",
              "\n",
              "    [theme=dark] .colab-df-convert:hover {\n",
              "      background-color: #434B5C;\n",
              "      box-shadow: 0px 1px 3px 1px rgba(0, 0, 0, 0.15);\n",
              "      filter: drop-shadow(0px 1px 2px rgba(0, 0, 0, 0.3));\n",
              "      fill: #FFFFFF;\n",
              "    }\n",
              "  </style>\n",
              "\n",
              "      <script>\n",
              "        const buttonEl =\n",
              "          document.querySelector('#df-60b11aa8-b17a-4134-9238-65ec8a666015 button.colab-df-convert');\n",
              "        buttonEl.style.display =\n",
              "          google.colab.kernel.accessAllowed ? 'block' : 'none';\n",
              "\n",
              "        async function convertToInteractive(key) {\n",
              "          const element = document.querySelector('#df-60b11aa8-b17a-4134-9238-65ec8a666015');\n",
              "          const dataTable =\n",
              "            await google.colab.kernel.invokeFunction('convertToInteractive',\n",
              "                                                     [key], {});\n",
              "          if (!dataTable) return;\n",
              "\n",
              "          const docLinkHtml = 'Like what you see? Visit the ' +\n",
              "            '<a target=\"_blank\" href=https://colab.research.google.com/notebooks/data_table.ipynb>data table notebook</a>'\n",
              "            + ' to learn more about interactive tables.';\n",
              "          element.innerHTML = '';\n",
              "          dataTable['output_type'] = 'display_data';\n",
              "          await google.colab.output.renderOutput(dataTable, element);\n",
              "          const docLink = document.createElement('div');\n",
              "          docLink.innerHTML = docLinkHtml;\n",
              "          element.appendChild(docLink);\n",
              "        }\n",
              "      </script>\n",
              "    </div>\n",
              "  </div>\n",
              "  "
            ],
            "text/plain": [
              "   horse_type  config  horse_age  horse_weight  rider_weight  surface  \\\n",
              "0           2       0          4        1027.0         126.0        0   \n",
              "1           5       0          8        1156.0         141.0        0   \n",
              "2           3       0          4         975.0         129.0        0   \n",
              "3           2       0          3        1018.0         128.0        0   \n",
              "4           1       0          6        1086.0         133.0        0   \n",
              "\n",
              "   average_speed  \n",
              "0      17.290184  \n",
              "1      15.961113  \n",
              "2      16.801852  \n",
              "3      16.759707  \n",
              "4      16.593614  "
            ]
          },
          "execution_count": 38,
          "metadata": {},
          "output_type": "execute_result"
        }
      ],
      "source": [
        "pred_speed.head()"
      ]
    },
    {
      "cell_type": "code",
      "execution_count": 47,
      "metadata": {
        "id": "U4gMramzWlK-"
      },
      "outputs": [],
      "source": [
        "X = pred_speed.iloc[:,0:6].values\n",
        "Y = pred_speed.iloc[:, -1].values"
      ]
    },
    {
      "cell_type": "code",
      "execution_count": 42,
      "metadata": {
        "id": "VuP0Vc-jWIQA"
      },
      "outputs": [],
      "source": [
        "#from sklearn.model_selection import train_test_split\n",
        "#X_train,X_test,Y_train,Y_test = train_test_split(X, Y, test_size = 0.01, random_state=0)"
      ]
    },
    {
      "cell_type": "code",
      "execution_count": 49,
      "metadata": {
        "colab": {
          "base_uri": "https://localhost:8080/"
        },
        "id": "QMnNYC7bjwZI",
        "outputId": "ebfe7dc0-f861-49f8-f722-1d21d297b1ed"
      },
      "outputs": [
        {
          "data": {
            "text/plain": [
              "LinearRegression()"
            ]
          },
          "execution_count": 49,
          "metadata": {},
          "output_type": "execute_result"
        }
      ],
      "source": [
        "from sklearn.linear_model import LinearRegression\n",
        "linearReg = LinearRegression()\n",
        "linearReg.fit(X,Y)"
      ]
    },
    {
      "cell_type": "code",
      "execution_count": 50,
      "metadata": {
        "colab": {
          "base_uri": "https://localhost:8080/"
        },
        "id": "OxFpaKC_j0Gw",
        "outputId": "c46dca0e-908f-4262-d6b4-21ec2279c954"
      },
      "outputs": [
        {
          "name": "stdout",
          "output_type": "stream",
          "text": [
            "[[16.92423 17.29018]\n",
            " [15.97515 15.96111]\n",
            " [16.74754 16.80185]\n",
            " ...\n",
            " [16.39458 16.40292]\n",
            " [16.35856 16.33723]\n",
            " [16.25563 16.30201]]\n"
          ]
        }
      ],
      "source": [
        "Y_pred = linearReg.predict(X)\n",
        "np.set_printoptions(precision=5)\n",
        "print(np.concatenate((Y_pred.reshape(len(Y_pred),1),Y.reshape(len(Y),1)),1))"
      ]
    },
    {
      "cell_type": "code",
      "execution_count": 52,
      "metadata": {
        "colab": {
          "base_uri": "https://localhost:8080/"
        },
        "id": "MiP7o7Vxj5dX",
        "outputId": "cadc8db9-d482-415c-be02-0e8a93b7eeef"
      },
      "outputs": [
        {
          "name": "stdout",
          "output_type": "stream",
          "text": [
            "Accuracy: 0.8134851741297058\n"
          ]
        }
      ],
      "source": [
        "print(\"Accuracy: {}\".format(linearReg.score(X,Y)))"
      ]
    },
    {
      "cell_type": "code",
      "execution_count": 53,
      "metadata": {
        "colab": {
          "base_uri": "https://localhost:8080/"
        },
        "id": "xg5SZwo6y_SL",
        "outputId": "1c159146-1793-4218-a890-6589ecb155a6"
      },
      "outputs": [
        {
          "data": {
            "text/plain": [
              "array([16.83774])"
            ]
          },
          "execution_count": 53,
          "metadata": {},
          "output_type": "execute_result"
        }
      ],
      "source": [
        "linearReg.predict([[2,3,3,1018.0, 128.0, 0]])\n",
        "      "
      ]
    },
    {
      "cell_type": "code",
      "execution_count": 55,
      "metadata": {
        "colab": {
          "base_uri": "https://localhost:8080/"
        },
        "id": "tdvq33Hg4MNa",
        "outputId": "f01b12f9-0935-4c47-bc5c-09df81f26501"
      },
      "outputs": [
        {
          "data": {
            "text/plain": [
              "array([['Gelding', 'A', '8', '1156', '141', '0']], dtype='<U21')"
            ]
          },
          "execution_count": 55,
          "metadata": {},
          "output_type": "execute_result"
        }
      ],
      "source": [
        "X = np.array([[\"Gelding\",\"A\",8,1156,141,0]])\n",
        "X"
      ]
    },
    {
      "cell_type": "code",
      "execution_count": 56,
      "metadata": {
        "colab": {
          "base_uri": "https://localhost:8080/"
        },
        "id": "TLs8f-N4AnUq",
        "outputId": "1be8d3be-8e00-4bbe-ef43-4c7501174fec"
      },
      "outputs": [
        {
          "data": {
            "text/plain": [
              "array([[   2.,    0.,    8., 1156.,  141.,    0.]])"
            ]
          },
          "execution_count": 56,
          "metadata": {},
          "output_type": "execute_result"
        }
      ],
      "source": [
        "X[:,0] = htype.transform(X[:,0])\n",
        "X[:,1] = config.transform(X[:,1])\n",
        "X = X.astype(float)\n",
        "X"
      ]
    },
    {
      "cell_type": "code",
      "execution_count": 57,
      "metadata": {
        "colab": {
          "base_uri": "https://localhost:8080/"
        },
        "id": "pYv9DYluBq5p",
        "outputId": "c93a897f-4f76-4eaf-b386-4c270d5d97d0"
      },
      "outputs": [
        {
          "data": {
            "text/plain": [
              "array([16.00492])"
            ]
          },
          "execution_count": 57,
          "metadata": {},
          "output_type": "execute_result"
        }
      ],
      "source": [
        "Y_pred = linearReg.predict(X)\n",
        "Y_pred"
      ]
    },
    {
      "cell_type": "code",
      "execution_count": 58,
      "metadata": {
        "id": "5PL-pUH-G5EE"
      },
      "outputs": [],
      "source": [
        "data = {\"model\" : linearReg, \"horse_type\" : htype, \"config\" : config} #Dictionary\n",
        "with open('speed_predictor.pkl', 'wb') as file:\n",
        "  pickle.dump(data,file)"
      ]
    },
    {
      "cell_type": "code",
      "execution_count": 60,
      "metadata": {
        "id": "1tUOhNbpITLj"
      },
      "outputs": [],
      "source": [
        "with open('speed_predictor.pkl', 'rb') as file:\n",
        "  pickle.load(file)\n",
        "\n",
        "linearReg_loaded = data[\"model\"]\n",
        "htype = data[\"horse_type\"]\n",
        "config = data[\"config\"]"
      ]
    },
    {
      "cell_type": "code",
      "execution_count": 61,
      "metadata": {
        "colab": {
          "base_uri": "https://localhost:8080/"
        },
        "id": "Crt9sk52Mhwo",
        "outputId": "6572a9cb-64f3-471b-e89d-4c461cd4a9de"
      },
      "outputs": [
        {
          "data": {
            "text/plain": [
              "array([16.00492])"
            ]
          },
          "execution_count": 61,
          "metadata": {},
          "output_type": "execute_result"
        }
      ],
      "source": [
        "Y_pred = linearReg_loaded.predict(X)\n",
        "Y_pred"
      ]
    }
  ],
  "metadata": {
    "colab": {
      "collapsed_sections": [],
      "provenance": []
    },
    "kernelspec": {
      "display_name": "Python 3.10.7 64-bit",
      "language": "python",
      "name": "python3"
    },
    "language_info": {
      "name": "python",
      "version": "3.10.7"
    },
    "vscode": {
      "interpreter": {
        "hash": "930e6ac6a94e66c4c6e98dfdbb9d8ee5ee706bad973359d84c3085fab1fb7a55"
      }
    }
  },
  "nbformat": 4,
  "nbformat_minor": 0
}
